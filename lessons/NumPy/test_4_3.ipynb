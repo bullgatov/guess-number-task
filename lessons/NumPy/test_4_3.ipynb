{
 "cells": [
  {
   "cell_type": "code",
   "execution_count": 4,
   "metadata": {},
   "outputs": [
    {
     "name": "stdout",
     "output_type": "stream",
     "text": [
      "True\n",
      "True\n",
      "False\n"
     ]
    }
   ],
   "source": [
    "from collections import deque\n",
    "\n",
    "def brackets(line):\n",
    "    dq = deque()\n",
    "    for ch in line:\n",
    "        if ch=='(':\n",
    "            dq.append(ch)\n",
    "        if ch==')':\n",
    "            if not len(dq):\n",
    "                return False\n",
    "            dq.pop()\n",
    "    if len(dq):\n",
    "        return False\n",
    "    return True\n",
    "    \n",
    "            \n",
    "        \n",
    "print(brackets(\"(()())\"))\n",
    "print(brackets(\"\"))\n",
    "# True\n",
    "print(brackets(\"(()()))\"))\n",
    "# False"
   ]
  }
 ],
 "metadata": {
  "kernelspec": {
   "display_name": "Python 3",
   "language": "python",
   "name": "python3"
  },
  "language_info": {
   "codemirror_mode": {
    "name": "ipython",
    "version": 3
   },
   "file_extension": ".py",
   "mimetype": "text/x-python",
   "name": "python",
   "nbconvert_exporter": "python",
   "pygments_lexer": "ipython3",
   "version": "3.11.3"
  },
  "orig_nbformat": 4
 },
 "nbformat": 4,
 "nbformat_minor": 2
}
