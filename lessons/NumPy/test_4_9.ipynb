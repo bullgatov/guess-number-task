{
 "cells": [
  {
   "attachments": {},
   "cell_type": "markdown",
   "metadata": {},
   "source": [
    "Дан список кортежей ratings с рейтингами кафе. Кортеж состоит из названия и рейтинга кафе.\n",
    "\n",
    "Необходимо отсортировать список кортежей по убыванию рейтинга. Если рейтинги совпадают, то отсортировать кафе дополнительно по названию в алфавитном порядке.\n",
    "\n",
    "Получите словарь cafes с упорядоченными ключами из отсортированного списка, где ключи — названия кафе, а значения — их рейтинг."
   ]
  },
  {
   "cell_type": "code",
   "execution_count": 7,
   "metadata": {},
   "outputs": [
    {
     "name": "stdout",
     "output_type": "stream",
     "text": [
      "{'WokAndRice': 4.9, 'WokToWork': 4.9, 'General Foods': 4.8, 'New Age': 4.6, 'Belissimo': 4.5, 'CakeAndCoffee': 4.2, 'CakeOClock': 4.2, 'CakeTime': 4.1, 'Nice Cakes': 3.9, 'Old Gold': 3.3, 'Old Wine Cellar': 3.3, 'Old York': 3.3}\n"
     ]
    }
   ],
   "source": [
    "from collections import OrderedDict\n",
    "ratings = [('Old York', 3.3), ('New Age', 4.6), ('Old Gold', 3.3), ('General Foods', 4.8),\n",
    "           ('Belissimo', 4.5), ('CakeAndCoffee', 4.2), ('CakeOClock', 4.2), ('CakeTime', 4.1),\n",
    "           ('WokToWork', 4.9), ('WokAndRice', 4.9), ('Old Wine Cellar', 3.3), ('Nice Cakes', 3.9)]\n",
    "\n",
    "sorted_ratings = sorted(ratings, key=lambda x: (-x[1], x[0]))\n",
    "\n",
    "cafes = OrderedDict(sorted_ratings)\n",
    "\n",
    "print(dict_cafe_rating)"
   ]
  }
 ],
 "metadata": {
  "kernelspec": {
   "display_name": "Python 3",
   "language": "python",
   "name": "python3"
  },
  "language_info": {
   "codemirror_mode": {
    "name": "ipython",
    "version": 3
   },
   "file_extension": ".py",
   "mimetype": "text/x-python",
   "name": "python",
   "nbconvert_exporter": "python",
   "pygments_lexer": "ipython3",
   "version": "3.11.3"
  },
  "orig_nbformat": 4
 },
 "nbformat": 4,
 "nbformat_minor": 2
}
