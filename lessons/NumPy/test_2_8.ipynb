{
 "cells": [
  {
   "cell_type": "code",
   "execution_count": 3,
   "metadata": {},
   "outputs": [
    {
     "name": "stdout",
     "output_type": "stream",
     "text": [
      "18\n",
      "11\n",
      "file extension: png, file name: 384300\n",
      "-32768.0\n",
      "32767.0\n"
     ]
    }
   ],
   "source": [
    "file_path = 'data/images/train/10394.jpg'\n",
    "## file_name = '10394'\n",
    "## file_extension = 'jpg'\n",
    "file_path = 'data/images/validation/748923.gif'\n",
    "## file_name = '748923'\n",
    "## file_extension = 'gif'\n",
    "\n",
    "file_path = 'data/images/384300.png'\n",
    "## file_name = '384300'\n",
    "## file_extension = 'png'\n",
    "\n",
    "index_of_point = file_path.find('.')\n",
    "print(index_of_point)\n",
    "file_extension = file_path[index_of_point+1::]\n",
    "\n",
    "index_of_slash = file_path.rfind('/')\n",
    "print(index_of_slash)\n",
    "\n",
    "file_name = file_path[index_of_slash+1:index_of_point:]\n",
    "print(f'file extension: {file_extension}, file name: {file_name}')\n",
    "\n",
    "Nmin = -(2**16)/2\n",
    "Nmax = (2**16)/2-1\n",
    "print(Nmin)\n",
    "print(Nmax)\n"
   ]
  }
 ],
 "metadata": {
  "kernelspec": {
   "display_name": "Python 3",
   "language": "python",
   "name": "python3"
  },
  "language_info": {
   "codemirror_mode": {
    "name": "ipython",
    "version": 3
   },
   "file_extension": ".py",
   "mimetype": "text/x-python",
   "name": "python",
   "nbconvert_exporter": "python",
   "pygments_lexer": "ipython3",
   "version": "3.11.3"
  },
  "orig_nbformat": 4
 },
 "nbformat": 4,
 "nbformat_minor": 2
}
