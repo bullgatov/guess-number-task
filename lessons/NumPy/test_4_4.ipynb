{
 "cells": [
  {
   "cell_type": "code",
   "execution_count": 2,
   "metadata": {},
   "outputs": [
    {
     "name": "stdout",
     "output_type": "stream",
     "text": [
      "111\n"
     ]
    }
   ],
   "source": [
    "center = [['Meat', 'Beer', 'Soap', 'Beer', 'Cheese', 'Cola', 'Milk', 'Soap', 'Cola', 'Meat', 'Bread', 'Chocolate', 'Chips'], ['Soap', 'Beer', 'Chips', 'Bread', 'Beer', 'Beer', 'Beer', 'Cheese', 'Cheese', 'Beer', 'Chips', 'Chocolate', 'Chips', 'Cheese', 'Bread', 'Cola', 'Cola', 'Beer'], ['Cola', 'Soap', 'Bread', 'Milk', 'Beer', 'Meat', 'Bread', 'Bread'], ['Ketchup', 'Beer', 'Ketchup', 'Chocolate', 'Milk', 'Milk', 'Bread', 'Beer'], ['Beer', 'Beer', 'Meat', 'Ketchup', 'Soap', 'Bread', 'Cola', 'Beer'], ['Meat', 'Bread', 'Milk', 'Cheese', 'Soap', 'Beer', 'Milk', 'Cheese', 'Cola', 'Beer', 'Chips', 'Bread', 'Ketchup', 'Chocolate', 'Bread', 'Milk'], ['Yoghurt'], ['Beer', 'Milk', 'Chips', 'Soap', 'Chips', 'Milk', 'Beer', 'Chips', 'Bread', 'Meat', 'Milk'], ['Yoghurt', 'Beer', 'Cola', 'Cola', 'Beer', 'Soap', 'Cheese', 'Soap', 'Bread', 'Cola', 'Yoghurt', 'Ketchup', 'Beer', 'Milk'], ['Milk', 'Cola', 'Bread', 'Cola', 'Bread', 'Beer', 'Beer', 'Beer'], ['Yoghurt', 'Cola'], ['Bread', 'Yoghurt', 'Chips', 'Ketchu']]\n",
    "new_center = []\n",
    "for el in center:\n",
    "    new_center.extend(el)\n",
    "print(f'center: {len(new_center)}')\n",
    "center_counter = Counter(new_center)\n",
    "print(center_counter)\n",
    "\n",
    "new_north = []\n",
    "for el in north:\n",
    "    new_north.extend(el)\n",
    "print(f'north: {len(new_north)}')\n",
    "north_counter = Counter(new_north)\n",
    "print(north_counter)\n",
    "\n",
    "new_south = []\n",
    "for el in south:\n",
    "    new_south.extend(el)\n",
    "print(f'south: {len(new_south)}')\n",
    "south_counter = Counter(new_south)\n",
    "print(south_counter)\n",
    "\n",
    "print(f\"Center beer: {center_counter['Beer']}, Cola:{center_counter['Cola']}, Bread: {center_counter['Bread']}, Yogurt: {center_counter['Yogurt']}\")\n",
    "      \n",
    "print(f\"North beer: {north_counter['Beer']}, Cola:{north_counter['Cola']}, Bread: {north_counter['Bread']}, Yogurt: {north_counter['Yogurt']}\")\n",
    "summ_c = south_counter + (north_counter + center_counter)\n",
    "print(summ_c)\n",
    "\n",
    "north_counter = north_counter - (south_counter + center_counter)\n",
    "print(north_counter)\n",
    "center_counter = center_counter - (south_counter + north_counter)\n",
    "print(center_counter)\n",
    "south_counter = south_counter - (north_counter + center_counter)\n",
    "print(south_counter)\n"
   ]
  }
 ],
 "metadata": {
  "kernelspec": {
   "display_name": "Python 3",
   "language": "python",
   "name": "python3"
  },
  "language_info": {
   "codemirror_mode": {
    "name": "ipython",
    "version": 3
   },
   "file_extension": ".py",
   "mimetype": "text/x-python",
   "name": "python",
   "nbconvert_exporter": "python",
   "pygments_lexer": "ipython3",
   "version": "3.11.3"
  },
  "orig_nbformat": 4
 },
 "nbformat": 4,
 "nbformat_minor": 2
}
